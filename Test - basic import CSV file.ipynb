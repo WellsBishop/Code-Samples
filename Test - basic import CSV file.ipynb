{
 "cells": [
  {
   "cell_type": "code",
   "execution_count": 14,
   "metadata": {
    "collapsed": false
   },
   "outputs": [
    {
     "name": "stdout",
     "output_type": "stream",
     "text": [
      "[ 57.7  58.   58.   57.9  57.9  57.9  57.8  57.6  57.6  57.9  57.8  57.8\n",
      "  57.5  57.9  57.6  58.   58.   57.9  58.   57.9  58.   57.9  58.   57.9\n",
      "  57.8  57.7  57.8  58.3  58.5  58.   58.   58.1  58.1  58.   57.8  57.8\n",
      "  58.   57.8  57.9  58.2  57.7  57.8  57.6  57.6  57.7  57.7  58.1  58.1\n",
      "  57.7  57.9  58.1  58.   57.7  57.6  57.5  57.8  57.9  57.6  57.5  57.5\n",
      "  57.5  57.5  57.6  57.6  58.   58.1  57.7  57.6  57.8  57.9  57.9  58.\n",
      "  57.8  57.9  57.9  58.   58.2  58.   58.   57.8  58.2  58.3  58.2  58.\n",
      "  58.2  58.2  58.2  58.4  58.5  58.5  58.5  58.6  58.4  58.4  58.7  58.5\n",
      "  58.1  58.1  58.1  58.1  57.9  58.2  58.4  58.5  58.   58.   57.9  58.4\n",
      "  58.5  58.4  58.3  58.5  58.5  58.5  58.   58.1  58.2  58.2  58.2  58.5\n",
      "  58.4  58.2  58.4  58.6  58.1  58.7  58.5  59.   58.9  59.1  59.1  59.2\n",
      "  59.   59.3  59.   58.9  59.1  59.3  59.3  59.2  59.5  59.4  59.1  59.2\n",
      "  59.3  59.5  59.2  59.6  60.   59.5  59.5  59.7  59.8  59.9  59.8  59.9\n",
      "  59.8  59.7  59.6  59.2  60.1  60.4  60.8]\n"
     ]
    }
   ],
   "source": [
    "import numpy as np\n",
    "\n",
    "\n",
    "first, blank, second, third = np.genfromtxt(\"hw2.csv\", delimiter=',', unpack=True)\n",
    "\n",
    "print(third)\n"
   ]
  },
  {
   "cell_type": "code",
   "execution_count": null,
   "metadata": {
    "collapsed": true
   },
   "outputs": [],
   "source": []
  },
  {
   "cell_type": "code",
   "execution_count": null,
   "metadata": {
    "collapsed": true
   },
   "outputs": [],
   "source": []
  },
  {
   "cell_type": "code",
   "execution_count": null,
   "metadata": {
    "collapsed": true
   },
   "outputs": [],
   "source": []
  },
  {
   "cell_type": "code",
   "execution_count": null,
   "metadata": {
    "collapsed": true
   },
   "outputs": [],
   "source": []
  },
  {
   "cell_type": "code",
   "execution_count": null,
   "metadata": {
    "collapsed": true
   },
   "outputs": [],
   "source": []
  }
 ],
 "metadata": {
  "kernelspec": {
   "display_name": "Python 2",
   "language": "python",
   "name": "python2"
  },
  "language_info": {
   "codemirror_mode": {
    "name": "ipython",
    "version": 2
   },
   "file_extension": ".py",
   "mimetype": "text/x-python",
   "name": "python",
   "nbconvert_exporter": "python",
   "pygments_lexer": "ipython2",
   "version": "2.7.12"
  }
 },
 "nbformat": 4,
 "nbformat_minor": 0
}
