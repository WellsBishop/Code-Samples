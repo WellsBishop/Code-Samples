{
 "cells": [
  {
   "cell_type": "code",
   "execution_count": null,
   "metadata": {
    "collapsed": false,
    "scrolled": true
   },
   "outputs": [],
   "source": [
    "import numpy as np\n",
    "import turtle\n",
    "from pylab import imshow, show, imsave\n",
    "from timeit import default_timer as timer\n",
    "\n",
    "def mandel(x, y, max_iters):\n",
    "    c = complex(x, y)\n",
    "    z = 0.0j\n",
    "    for i in range(max_iters):\n",
    "        z = z*z +c\n",
    "        if (z.real*z.real + z.imag*z.imag) >= 4:\n",
    "            return i\n",
    "    return max_iters\n",
    "\n",
    "def create_fractal(xmin, xmax, ymin, ymax, image, iters):\n",
    "    height = image.shape[0]\n",
    "    width = image.shape[1]\n",
    "    \n",
    "    xpixel_size = (xmax - xmin) /width\n",
    "    ypixel_size = (ymax - ymin) /height\n",
    "    \n",
    "    for x in range(width):\n",
    "        real =xmin + x * xpixel_size\n",
    "        for y in range(height):\n",
    "            imag = ymin + y * ypixel_size\n",
    "            color = mandel(real, imag, iters)\n",
    "            image[y, x] = color\n",
    "            \n",
    "image = np.zeros((2*1024,2*1536), dtype = np.uint8)\n",
    "\n",
    "start = timer()\n",
    "create_fractal(-2.0, 1.0, -1.0, 1.0, image, 20)\n",
    "dt = timer() - start\n",
    "\n",
    "print(\"Mandelbrot calculations performed in %f s\" % dt)\n",
    "imshow(image)\n",
    "imsave('image_mandelbrot.png', image )\n",
    "show()\n",
    "        "
   ]
  },
  {
   "cell_type": "code",
   "execution_count": null,
   "metadata": {
    "collapsed": true
   },
   "outputs": [],
   "source": []
  },
  {
   "cell_type": "code",
   "execution_count": null,
   "metadata": {
    "collapsed": true
   },
   "outputs": [],
   "source": []
  },
  {
   "cell_type": "code",
   "execution_count": null,
   "metadata": {
    "collapsed": true
   },
   "outputs": [],
   "source": []
  }
 ],
 "metadata": {
  "kernelspec": {
   "display_name": "Python 2",
   "language": "python",
   "name": "python2"
  },
  "language_info": {
   "codemirror_mode": {
    "name": "ipython",
    "version": 2
   },
   "file_extension": ".py",
   "mimetype": "text/x-python",
   "name": "python",
   "nbconvert_exporter": "python",
   "pygments_lexer": "ipython2",
   "version": "2.7.12"
  }
 },
 "nbformat": 4,
 "nbformat_minor": 0
}
