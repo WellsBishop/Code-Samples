{
 "cells": [
  {
   "cell_type": "code",
   "execution_count": 1,
   "metadata": {
    "collapsed": false,
    "scrolled": false
   },
   "outputs": [
    {
     "name": "stdout",
     "output_type": "stream",
     "text": [
      "('dt = ', 0.01)\n",
      "('Energy Error:', array([ 0.85893707]))\n"
     ]
    }
   ],
   "source": [
    "\n",
    "from pylab import *\n",
    "import numpy as np\n",
    "\n",
    "\n",
    "N = 10000\n",
    "tau = 100.0\n",
    "dt = tau/float(N)\n",
    "print(\"dt = \", dt)\n",
    "k = 1.0\n",
    "m = 1.0\n",
    "xo = 1.0\n",
    "vo = 0.0\n",
    "\n",
    "time = linspace(0, tau, N)\n",
    "\n",
    "y = zeros([N, 2])\n",
    "\n",
    "y[0,0] = xo\n",
    "y[0,1] = vo\n",
    "\n",
    "\n",
    "def euler(y, t, dt):\n",
    "    y_next = y - SHO(y,t) *dt\n",
    "    return y_next\n",
    "\n",
    "def SHO(state, time):\n",
    "    \"\"\"\n",
    "    Defines the SHO equation: dx^2/dt = 􀀀-(k/m)*x 􀀀- g\n",
    "    by breaking it into two first-order equations:\n",
    "    dx/dt = v\n",
    "    dv/dt = -k/m * x \n",
    "    \"\"\"\n",
    "    g0 = state[1]\n",
    "    g1 = -(k/m) * state[0]\n",
    "    \n",
    "    return array([g0, g1])\n",
    "\n",
    "\n",
    "for i in range(N-1):\n",
    "    y[i+1] = euler(y[i], time[i], dt)\n",
    "     \n",
    "xdata = [y[i, 0] for i in range(N)]\n",
    "vdata = [y[i, 1] for i in range(N)]\n",
    "\n",
    "\n",
    "Edata = zeros([N, 1])\n",
    "EXdata = zeros([N, 1])\n",
    "\n",
    "def energy(x, v):\n",
    "    E = 0.5*m*(v**2) + 0.5*k*(x**2)\n",
    "    return E\n",
    "\n",
    "for i in range(0, N):\n",
    "    Edata[i] = energy(xdata[i], vdata[i])    \n",
    "\n",
    "for i in range(0, N):\n",
    "    EXdata[i] = energy(cos(i), -sin(i))\n",
    "print(\"Energy Error:\", max(Edata-EXdata))\n",
    "    \n",
    "figure(1)\n",
    "title('Estimate using Euler formula')\n",
    "plot(xdata, 'o', vdata, 'r', Edata, 'y')\n",
    "ylim(-2, 2)\n",
    "xlabel(\"time\")\n",
    "ylabel(\"position(blue), velocity(red), energy(yellow)\")\n",
    "\n",
    "figure(2)\n",
    "title('Calculated vs. exact energy')\n",
    "plot(Edata, 'y', EXdata, 'r' )\n",
    "ylim(0, 1)\n",
    "xlabel(\"time\")\n",
    "ylabel(\"Energy(yellow), Exact Energy(red)\")\n",
    "\n",
    "\n",
    "show()\n"
   ]
  },
  {
   "cell_type": "code",
   "execution_count": null,
   "metadata": {
    "collapsed": true
   },
   "outputs": [],
   "source": []
  },
  {
   "cell_type": "code",
   "execution_count": null,
   "metadata": {
    "collapsed": true
   },
   "outputs": [],
   "source": []
  },
  {
   "cell_type": "code",
   "execution_count": null,
   "metadata": {
    "collapsed": true
   },
   "outputs": [],
   "source": []
  },
  {
   "cell_type": "code",
   "execution_count": null,
   "metadata": {
    "collapsed": true
   },
   "outputs": [],
   "source": []
  },
  {
   "cell_type": "code",
   "execution_count": null,
   "metadata": {
    "collapsed": true
   },
   "outputs": [],
   "source": []
  },
  {
   "cell_type": "code",
   "execution_count": null,
   "metadata": {
    "collapsed": true
   },
   "outputs": [],
   "source": []
  },
  {
   "cell_type": "code",
   "execution_count": null,
   "metadata": {
    "collapsed": true
   },
   "outputs": [],
   "source": []
  }
 ],
 "metadata": {
  "kernelspec": {
   "display_name": "Python 2",
   "language": "python",
   "name": "python2"
  },
  "language_info": {
   "codemirror_mode": {
    "name": "ipython",
    "version": 2
   },
   "file_extension": ".py",
   "mimetype": "text/x-python",
   "name": "python",
   "nbconvert_exporter": "python",
   "pygments_lexer": "ipython2",
   "version": "2.7.12"
  }
 },
 "nbformat": 4,
 "nbformat_minor": 0
}
