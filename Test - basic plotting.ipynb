{
 "cells": [
  {
   "cell_type": "code",
   "execution_count": 1,
   "metadata": {
    "collapsed": false
   },
   "outputs": [],
   "source": [
    "import matplotlib.pyplot as plt\n",
    "import numpy as np\n",
    "\n",
    "x = np.arange(-np.pi, np.pi, 0.01)\n",
    "y = (-2*np.sin(2*x)/(np.pi*3) - 2*np.sin(4*x)/(np.pi*15) - 2*np.sin(6*x)/(np.pi*35))\n",
    "\n",
    "plt.xlabel('X')\n",
    "plt.ylabel('F(x)')\n",
    "plt.title('My Awesome Graph')\n",
    "plt.plot(x, y, 'b')\n",
    "plt.axis([-4,4, -4, 4])\n",
    "plt.grid(True)\n",
    "plt.show()"
   ]
  },
  {
   "cell_type": "code",
   "execution_count": 2,
   "metadata": {
    "collapsed": false
   },
   "outputs": [
    {
     "name": "stdout",
     "output_type": "stream",
     "text": [
      "0.999999682932\n",
      "0.999999682932\n"
     ]
    }
   ],
   "source": [
    "x = np.arange(0.0, 2*np.pi, 0.01)\n",
    "y = np.sin(x)\n",
    "\n",
    "plt.xlabel('X')\n",
    "plt.ylabel('F(x)')\n",
    "plt.title('My Awesome Graph 2')\n",
    "plt.plot(x, y, 'b')\n",
    "plt.show()\n",
    "\n",
    "\n",
    "ymax = 0    \n",
    "for num in x:\n",
    "    y = np.sin(num)\n",
    "    if y > ymax:\n",
    "        ymax = y\n",
    "\n",
    "y_array = []        \n",
    "for num in x:\n",
    "    y_array.append(np.sin(num))\n",
    "    \n",
    "print(ymax)\n",
    "print(max(y_array))"
   ]
  },
  {
   "cell_type": "code",
   "execution_count": null,
   "metadata": {
    "collapsed": true
   },
   "outputs": [],
   "source": []
  },
  {
   "cell_type": "code",
   "execution_count": null,
   "metadata": {
    "collapsed": true
   },
   "outputs": [],
   "source": []
  },
  {
   "cell_type": "code",
   "execution_count": null,
   "metadata": {
    "collapsed": true
   },
   "outputs": [],
   "source": []
  },
  {
   "cell_type": "code",
   "execution_count": null,
   "metadata": {
    "collapsed": true
   },
   "outputs": [],
   "source": []
  }
 ],
 "metadata": {
  "kernelspec": {
   "display_name": "Python 2",
   "language": "python",
   "name": "python2"
  },
  "language_info": {
   "codemirror_mode": {
    "name": "ipython",
    "version": 2
   },
   "file_extension": ".py",
   "mimetype": "text/x-python",
   "name": "python",
   "nbconvert_exporter": "python",
   "pygments_lexer": "ipython2",
   "version": "2.7.12"
  }
 },
 "nbformat": 4,
 "nbformat_minor": 0
}
