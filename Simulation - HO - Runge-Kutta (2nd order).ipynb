{
 "cells": [
  {
   "cell_type": "code",
   "execution_count": 28,
   "metadata": {
    "collapsed": false
   },
   "outputs": [
    {
     "name": "stdout",
     "output_type": "stream",
     "text": [
      "Runge-Kutta calculations completed in 0.183751 seconds\n",
      "for simulation time of 100.0 seconds.\n",
      "dt =  0.01\n",
      "Energy Error after  100.0 seconds : +- 0.0000124977\n"
     ]
    }
   ],
   "source": [
    "from pylab import *\n",
    "from timeit import default_timer as timer\n",
    "\n",
    "\n",
    "# Start the timer\n",
    "start = timer()\n",
    "\n",
    "# timestep controls\n",
    "dt = 0.01\n",
    "tmax = 10000\n",
    "ttime = dt*tmax\n",
    "k = 1\n",
    "m = 1\n",
    "\n",
    "# initialize arrays\n",
    "t = zeros(tmax)\n",
    "x = zeros(tmax)\n",
    "v = zeros(tmax)\n",
    "E = zeros(tmax)\n",
    "EX = zeros(tmax)\n",
    "\n",
    "k1x = zeros(tmax)\n",
    "k1v = zeros(tmax)\n",
    "k2x = zeros(tmax)\n",
    "k2v = zeros(tmax)\n",
    "\n",
    "x[0] = 1\n",
    "\n",
    "for i in arange(1,tmax):\n",
    "    k1x[i] = v[i-1]\n",
    "    k1v[i] = -x[i-1]\n",
    "    \n",
    "    k2x[i] = v[i-1] + k1v[i]*dt\n",
    "    k2v[i] = -x[i-1] - k1x[i]*dt\n",
    "    \n",
    "    x[i] = x[i-1] + (k1x[i] + k2x[i])*dt/2\n",
    "    v[i] = v[i-1] + (k/m)*(k1v[i] + k2v[i])*dt/2\n",
    "    t[i] = t[i-1] + dt\n",
    "    \n",
    "    E[i] = 0.5*m*v[i-1]**2 + 0.5*k*x[i-1]**2\n",
    "    EX[i] = 0.5*m*(-sin(i))**2 + 0.5*k*(cos(i))**2\n",
    "\n",
    "    \n",
    "calc_time  = timer() - start\n",
    "print(\"Runge-Kutta calculations completed in %f seconds\" %calc_time)\n",
    "print(\"for simulation time of %.1f seconds.\" %ttime)\n",
    "print(\"dt = \", dt)\n",
    "print(\"Energy Error after \", ttime , \"seconds : +- %.10f\" % max(abs(z) for z in (EX-E)))    \n",
    "    \n",
    "\n",
    "    \n",
    "figure(1)\n",
    "title('Estimate of Harmonic Ocillator using Runge-Kutta formula')\n",
    "plot(x, 'o', v, 'r', E, 'y')\n",
    "xlim(0, tmax)\n",
    "xlabel(\"time\")\n",
    "ylabel(\"position(blue), velocity(red), energy(yellow)\")\n",
    "\n",
    "figure(2)\n",
    "title('Calculated vs. exact energy')\n",
    "plot(EX, 'r', E, 'y' )\n",
    "ylim(0, 0.55)\n",
    "xlim(0, tmax)\n",
    "xlabel(\"time\")\n",
    "ylabel(\"Energy(yellow), Exact Energy(red)\")\n",
    "\n",
    "show()"
   ]
  },
  {
   "cell_type": "code",
   "execution_count": null,
   "metadata": {
    "collapsed": true
   },
   "outputs": [],
   "source": []
  },
  {
   "cell_type": "code",
   "execution_count": null,
   "metadata": {
    "collapsed": true
   },
   "outputs": [],
   "source": []
  },
  {
   "cell_type": "code",
   "execution_count": null,
   "metadata": {
    "collapsed": true
   },
   "outputs": [],
   "source": []
  },
  {
   "cell_type": "code",
   "execution_count": null,
   "metadata": {
    "collapsed": true
   },
   "outputs": [],
   "source": []
  }
 ],
 "metadata": {
  "kernelspec": {
   "display_name": "Python 2",
   "language": "python",
   "name": "python2"
  },
  "language_info": {
   "codemirror_mode": {
    "name": "ipython",
    "version": 2
   },
   "file_extension": ".py",
   "mimetype": "text/x-python",
   "name": "python",
   "nbconvert_exporter": "python",
   "pygments_lexer": "ipython2",
   "version": "2.7.12"
  }
 },
 "nbformat": 4,
 "nbformat_minor": 0
}
