{
 "cells": [
  {
   "cell_type": "code",
   "execution_count": 3,
   "metadata": {
    "collapsed": false
   },
   "outputs": [],
   "source": [
    "from math import sqrt,sin,pi\n",
    "from numpy import empty\n",
    "from pylab import imshow,gray,show\n",
    "\n",
    "wavelength = 10.0\n",
    "k = 2*pi/wavelength\n",
    "xi0 = 1.0\n",
    "separation = 30.0      # Separation of centers in cm\n",
    "side = 100.0           # Side of the square in cm\n",
    "points = 1000           # Number of grid points along each side\n",
    "spacing = side/points  # Spacing of points in cm\n",
    "\n",
    "\n",
    "# Calculate the positions of the centers of the circles\n",
    "x1 = side/2 + separation/2\n",
    "y1 = side/2\n",
    "x2 = side/2 - separation/2\n",
    "y2 = side/2\n",
    "\n",
    "# Make an array to store the heights\n",
    "xi = empty([points,points],float)\n",
    "\n",
    "# Calculate the values in the array\n",
    "for i in range(points):\n",
    "    y = spacing*i\n",
    "    for j in range(points):\n",
    "        x = spacing*j\n",
    "        r1 = sqrt((x-x1)**2+(y-y1)**2)\n",
    "        r2 = sqrt((x-x2)**2+(y-y2)**2)\n",
    "        xi[i,j] = xi0*sin(k*r1) + xi0*sin(k*r2)\n",
    "\n",
    "# Make the plot\n",
    "imshow(xi,origin=\"lower\",extent=[0,side,0,side])\n",
    "gray()\n",
    "show()"
   ]
  },
  {
   "cell_type": "code",
   "execution_count": null,
   "metadata": {
    "collapsed": true
   },
   "outputs": [],
   "source": []
  },
  {
   "cell_type": "code",
   "execution_count": null,
   "metadata": {
    "collapsed": true
   },
   "outputs": [],
   "source": []
  },
  {
   "cell_type": "code",
   "execution_count": null,
   "metadata": {
    "collapsed": true
   },
   "outputs": [],
   "source": []
  }
 ],
 "metadata": {
  "kernelspec": {
   "display_name": "Python 2",
   "language": "python",
   "name": "python2"
  },
  "language_info": {
   "codemirror_mode": {
    "name": "ipython",
    "version": 2
   },
   "file_extension": ".py",
   "mimetype": "text/x-python",
   "name": "python",
   "nbconvert_exporter": "python",
   "pygments_lexer": "ipython2",
   "version": "2.7.12"
  }
 },
 "nbformat": 4,
 "nbformat_minor": 0
}
